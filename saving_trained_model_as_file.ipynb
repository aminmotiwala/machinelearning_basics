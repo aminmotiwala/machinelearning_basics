{
  "nbformat": 4,
  "nbformat_minor": 0,
  "metadata": {
    "colab": {
      "provenance": [],
      "authorship_tag": "ABX9TyPPQ2eWey1EdR/h53nNLMoU",
      "include_colab_link": true
    },
    "kernelspec": {
      "name": "python3",
      "display_name": "Python 3"
    },
    "language_info": {
      "name": "python"
    }
  },
  "cells": [
    {
      "cell_type": "markdown",
      "metadata": {
        "id": "view-in-github",
        "colab_type": "text"
      },
      "source": [
        "<a href=\"https://colab.research.google.com/github/aminmotiwala/machinelearning_basics/blob/main/saving_trained_model_as_file.ipynb\" target=\"_parent\"><img src=\"https://colab.research.google.com/assets/colab-badge.svg\" alt=\"Open In Colab\"/></a>"
      ]
    },
    {
      "cell_type": "code",
      "execution_count": 8,
      "metadata": {
        "colab": {
          "base_uri": "https://localhost:8080/"
        },
        "id": "e4Ru7Vi6aXmx",
        "outputId": "1c640b71-5327-4f2a-eb70-bae910dd67dc"
      },
      "outputs": [
        {
          "output_type": "stream",
          "name": "stdout",
          "text": [
            "[41288.69409442]\n",
            "[41288.69409442]\n"
          ]
        },
        {
          "output_type": "stream",
          "name": "stderr",
          "text": [
            "/usr/local/lib/python3.10/dist-packages/sklearn/base.py:439: UserWarning: X does not have valid feature names, but LinearRegression was fitted with feature names\n",
            "  warnings.warn(\n",
            "/usr/local/lib/python3.10/dist-packages/sklearn/base.py:439: UserWarning: X does not have valid feature names, but LinearRegression was fitted with feature names\n",
            "  warnings.warn(\n"
          ]
        }
      ],
      "source": [
        "import pandas as pd\n",
        "import matplotlib.pyplot as plt\n",
        "from sklearn import linear_model\n",
        "import joblib\n",
        "\n",
        "df = pd.read_csv(\"sample_data/canada_per_capita_income.csv\")\n",
        "\n",
        "reg = linear_model.LinearRegression()\n",
        "reg.fit(df[[\"year\"]], df['per capita income (US$)'])\n",
        "\n",
        "# predict per capita income (US$) for year 2020\n",
        "print(reg.predict([[2020]]))\n",
        "\n",
        "joblib.dump(reg, 'sample_data/canada_income_model')\n",
        "\n",
        "mj = joblib.load('sample_data/canada_income_model')\n",
        "print(mj.predict([[2020]]))"
      ]
    },
    {
      "cell_type": "code",
      "source": [
        "!pip install joblib"
      ],
      "metadata": {
        "colab": {
          "base_uri": "https://localhost:8080/"
        },
        "id": "uz_4r83lbGDX",
        "outputId": "6e5c0165-c7d9-496a-9b7c-b83df7401992"
      },
      "execution_count": 4,
      "outputs": [
        {
          "output_type": "stream",
          "name": "stdout",
          "text": [
            "Requirement already satisfied: joblib in /usr/local/lib/python3.10/dist-packages (1.3.2)\n"
          ]
        }
      ]
    }
  ]
}